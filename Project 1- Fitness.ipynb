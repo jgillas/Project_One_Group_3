{
 "cells": [
  {
   "cell_type": "code",
   "execution_count": 1,
   "id": "c5c2f75a",
   "metadata": {},
   "outputs": [],
   "source": [
    "import pandas as pd\n",
    "import matplotlib.pyplot as plt\n",
    "import numpy as np\n",
    "import scipy.stats as st\n",
    "from scipy.stats import linregress"
   ]
  },
  {
   "cell_type": "code",
   "execution_count": 2,
   "id": "daf6a406",
   "metadata": {},
   "outputs": [
    {
     "data": {
      "text/html": [
       "<div>\n",
       "<style scoped>\n",
       "    .dataframe tbody tr th:only-of-type {\n",
       "        vertical-align: middle;\n",
       "    }\n",
       "\n",
       "    .dataframe tbody tr th {\n",
       "        vertical-align: top;\n",
       "    }\n",
       "\n",
       "    .dataframe thead th {\n",
       "        text-align: right;\n",
       "    }\n",
       "</style>\n",
       "<table border=\"1\" class=\"dataframe\">\n",
       "  <thead>\n",
       "    <tr style=\"text-align: right;\">\n",
       "      <th></th>\n",
       "      <th>date</th>\n",
       "      <th>step_count</th>\n",
       "      <th>mood</th>\n",
       "      <th>calories_burned</th>\n",
       "      <th>hours_of_sleep</th>\n",
       "      <th>bool_of_active</th>\n",
       "      <th>weight_kg</th>\n",
       "    </tr>\n",
       "  </thead>\n",
       "  <tbody>\n",
       "    <tr>\n",
       "      <th>0</th>\n",
       "      <td>10/6/17</td>\n",
       "      <td>5464</td>\n",
       "      <td>200</td>\n",
       "      <td>181</td>\n",
       "      <td>5</td>\n",
       "      <td>0</td>\n",
       "      <td>66</td>\n",
       "    </tr>\n",
       "    <tr>\n",
       "      <th>1</th>\n",
       "      <td>10/7/17</td>\n",
       "      <td>6041</td>\n",
       "      <td>100</td>\n",
       "      <td>197</td>\n",
       "      <td>8</td>\n",
       "      <td>0</td>\n",
       "      <td>66</td>\n",
       "    </tr>\n",
       "    <tr>\n",
       "      <th>2</th>\n",
       "      <td>10/8/17</td>\n",
       "      <td>25</td>\n",
       "      <td>100</td>\n",
       "      <td>0</td>\n",
       "      <td>5</td>\n",
       "      <td>0</td>\n",
       "      <td>66</td>\n",
       "    </tr>\n",
       "    <tr>\n",
       "      <th>3</th>\n",
       "      <td>10/9/17</td>\n",
       "      <td>5461</td>\n",
       "      <td>100</td>\n",
       "      <td>174</td>\n",
       "      <td>4</td>\n",
       "      <td>0</td>\n",
       "      <td>66</td>\n",
       "    </tr>\n",
       "    <tr>\n",
       "      <th>4</th>\n",
       "      <td>10/10/17</td>\n",
       "      <td>6915</td>\n",
       "      <td>200</td>\n",
       "      <td>223</td>\n",
       "      <td>5</td>\n",
       "      <td>500</td>\n",
       "      <td>66</td>\n",
       "    </tr>\n",
       "  </tbody>\n",
       "</table>\n",
       "</div>"
      ],
      "text/plain": [
       "       date  step_count  mood  calories_burned  hours_of_sleep  \\\n",
       "0   10/6/17        5464   200              181               5   \n",
       "1   10/7/17        6041   100              197               8   \n",
       "2   10/8/17          25   100                0               5   \n",
       "3   10/9/17        5461   100              174               4   \n",
       "4  10/10/17        6915   200              223               5   \n",
       "\n",
       "   bool_of_active  weight_kg  \n",
       "0               0         66  \n",
       "1               0         66  \n",
       "2               0         66  \n",
       "3               0         66  \n",
       "4             500         66  "
      ]
     },
     "execution_count": 2,
     "metadata": {},
     "output_type": "execute_result"
    }
   ],
   "source": [
    "fitness_df = pd.read_csv(\"Resources/Project_Fitness.csv\")\n",
    "fitness_df.head()"
   ]
  },
  {
   "cell_type": "code",
   "execution_count": 3,
   "id": "44ccd27d",
   "metadata": {},
   "outputs": [
    {
     "data": {
      "text/html": [
       "<div>\n",
       "<style scoped>\n",
       "    .dataframe tbody tr th:only-of-type {\n",
       "        vertical-align: middle;\n",
       "    }\n",
       "\n",
       "    .dataframe tbody tr th {\n",
       "        vertical-align: top;\n",
       "    }\n",
       "\n",
       "    .dataframe thead th {\n",
       "        text-align: right;\n",
       "    }\n",
       "</style>\n",
       "<table border=\"1\" class=\"dataframe\">\n",
       "  <thead>\n",
       "    <tr style=\"text-align: right;\">\n",
       "      <th></th>\n",
       "      <th>date</th>\n",
       "      <th>step_count</th>\n",
       "      <th>mood</th>\n",
       "      <th>calories_burned</th>\n",
       "      <th>hours_of_sleep</th>\n",
       "      <th>active_status</th>\n",
       "      <th>weight_lbs</th>\n",
       "    </tr>\n",
       "  </thead>\n",
       "  <tbody>\n",
       "    <tr>\n",
       "      <th>0</th>\n",
       "      <td>10/6/17</td>\n",
       "      <td>5464</td>\n",
       "      <td>200</td>\n",
       "      <td>181</td>\n",
       "      <td>5</td>\n",
       "      <td>0</td>\n",
       "      <td>66</td>\n",
       "    </tr>\n",
       "    <tr>\n",
       "      <th>1</th>\n",
       "      <td>10/7/17</td>\n",
       "      <td>6041</td>\n",
       "      <td>100</td>\n",
       "      <td>197</td>\n",
       "      <td>8</td>\n",
       "      <td>0</td>\n",
       "      <td>66</td>\n",
       "    </tr>\n",
       "    <tr>\n",
       "      <th>2</th>\n",
       "      <td>10/8/17</td>\n",
       "      <td>25</td>\n",
       "      <td>100</td>\n",
       "      <td>0</td>\n",
       "      <td>5</td>\n",
       "      <td>0</td>\n",
       "      <td>66</td>\n",
       "    </tr>\n",
       "    <tr>\n",
       "      <th>3</th>\n",
       "      <td>10/9/17</td>\n",
       "      <td>5461</td>\n",
       "      <td>100</td>\n",
       "      <td>174</td>\n",
       "      <td>4</td>\n",
       "      <td>0</td>\n",
       "      <td>66</td>\n",
       "    </tr>\n",
       "    <tr>\n",
       "      <th>4</th>\n",
       "      <td>10/10/17</td>\n",
       "      <td>6915</td>\n",
       "      <td>200</td>\n",
       "      <td>223</td>\n",
       "      <td>5</td>\n",
       "      <td>500</td>\n",
       "      <td>66</td>\n",
       "    </tr>\n",
       "  </tbody>\n",
       "</table>\n",
       "</div>"
      ],
      "text/plain": [
       "       date  step_count  mood  calories_burned  hours_of_sleep  active_status  \\\n",
       "0   10/6/17        5464   200              181               5              0   \n",
       "1   10/7/17        6041   100              197               8              0   \n",
       "2   10/8/17          25   100                0               5              0   \n",
       "3   10/9/17        5461   100              174               4              0   \n",
       "4  10/10/17        6915   200              223               5            500   \n",
       "\n",
       "   weight_lbs  \n",
       "0          66  \n",
       "1          66  \n",
       "2          66  \n",
       "3          66  \n",
       "4          66  "
      ]
     },
     "execution_count": 3,
     "metadata": {},
     "output_type": "execute_result"
    }
   ],
   "source": [
    "fitness_df = fitness_df.rename(columns={'bool_of_active': 'active_status', 'weight_kg': 'weight_lbs'})\n",
    "fitness_df.head()"
   ]
  },
  {
   "cell_type": "code",
   "execution_count": 4,
   "id": "0e11ff67",
   "metadata": {},
   "outputs": [
    {
     "data": {
      "text/html": [
       "<div>\n",
       "<style scoped>\n",
       "    .dataframe tbody tr th:only-of-type {\n",
       "        vertical-align: middle;\n",
       "    }\n",
       "\n",
       "    .dataframe tbody tr th {\n",
       "        vertical-align: top;\n",
       "    }\n",
       "\n",
       "    .dataframe thead th {\n",
       "        text-align: right;\n",
       "    }\n",
       "</style>\n",
       "<table border=\"1\" class=\"dataframe\">\n",
       "  <thead>\n",
       "    <tr style=\"text-align: right;\">\n",
       "      <th></th>\n",
       "      <th>date</th>\n",
       "      <th>step_count</th>\n",
       "      <th>calories_burned</th>\n",
       "      <th>hours_of_sleep</th>\n",
       "      <th>active_status</th>\n",
       "      <th>weight_lbs</th>\n",
       "      <th>moods</th>\n",
       "    </tr>\n",
       "  </thead>\n",
       "  <tbody>\n",
       "    <tr>\n",
       "      <th>0</th>\n",
       "      <td>10/6/17</td>\n",
       "      <td>5464</td>\n",
       "      <td>181</td>\n",
       "      <td>5</td>\n",
       "      <td>0</td>\n",
       "      <td>66</td>\n",
       "      <td>Neutral</td>\n",
       "    </tr>\n",
       "    <tr>\n",
       "      <th>1</th>\n",
       "      <td>10/7/17</td>\n",
       "      <td>6041</td>\n",
       "      <td>197</td>\n",
       "      <td>8</td>\n",
       "      <td>0</td>\n",
       "      <td>66</td>\n",
       "      <td>Sad</td>\n",
       "    </tr>\n",
       "    <tr>\n",
       "      <th>2</th>\n",
       "      <td>10/8/17</td>\n",
       "      <td>25</td>\n",
       "      <td>0</td>\n",
       "      <td>5</td>\n",
       "      <td>0</td>\n",
       "      <td>66</td>\n",
       "      <td>Sad</td>\n",
       "    </tr>\n",
       "    <tr>\n",
       "      <th>3</th>\n",
       "      <td>10/9/17</td>\n",
       "      <td>5461</td>\n",
       "      <td>174</td>\n",
       "      <td>4</td>\n",
       "      <td>0</td>\n",
       "      <td>66</td>\n",
       "      <td>Sad</td>\n",
       "    </tr>\n",
       "    <tr>\n",
       "      <th>4</th>\n",
       "      <td>10/10/17</td>\n",
       "      <td>6915</td>\n",
       "      <td>223</td>\n",
       "      <td>5</td>\n",
       "      <td>500</td>\n",
       "      <td>66</td>\n",
       "      <td>Neutral</td>\n",
       "    </tr>\n",
       "  </tbody>\n",
       "</table>\n",
       "</div>"
      ],
      "text/plain": [
       "       date  step_count  calories_burned  hours_of_sleep  active_status  \\\n",
       "0   10/6/17        5464              181               5              0   \n",
       "1   10/7/17        6041              197               8              0   \n",
       "2   10/8/17          25                0               5              0   \n",
       "3   10/9/17        5461              174               4              0   \n",
       "4  10/10/17        6915              223               5            500   \n",
       "\n",
       "   weight_lbs    moods  \n",
       "0          66  Neutral  \n",
       "1          66      Sad  \n",
       "2          66      Sad  \n",
       "3          66      Sad  \n",
       "4          66  Neutral  "
      ]
     },
     "execution_count": 4,
     "metadata": {},
     "output_type": "execute_result"
    }
   ],
   "source": [
    "for i in range(len(fitness_df['mood'])):\n",
    "    if fitness_df['mood'][i] == 300:\n",
    "        fitness_df.at[i,'moods'] = 'Happy'\n",
    "    elif fitness_df['mood'][i] == 200:\n",
    "        fitness_df.at[i,'moods'] = 'Neutral'\n",
    "    elif fitness_df['mood'][i] == 100:\n",
    "        fitness_df.at[i,'moods'] = 'Sad'\n",
    "    else:\n",
    "        print('error')\n",
    "\n",
    "fitness_df = fitness_df.drop('mood', axis=1)\n",
    "\n",
    "fitness_df.head()"
   ]
  },
  {
   "cell_type": "code",
   "execution_count": 5,
   "id": "2114b4cc",
   "metadata": {},
   "outputs": [
    {
     "data": {
      "text/html": [
       "<div>\n",
       "<style scoped>\n",
       "    .dataframe tbody tr th:only-of-type {\n",
       "        vertical-align: middle;\n",
       "    }\n",
       "\n",
       "    .dataframe tbody tr th {\n",
       "        vertical-align: top;\n",
       "    }\n",
       "\n",
       "    .dataframe thead th {\n",
       "        text-align: right;\n",
       "    }\n",
       "</style>\n",
       "<table border=\"1\" class=\"dataframe\">\n",
       "  <thead>\n",
       "    <tr style=\"text-align: right;\">\n",
       "      <th></th>\n",
       "      <th>date</th>\n",
       "      <th>step_count</th>\n",
       "      <th>calories_burned</th>\n",
       "      <th>hours_of_sleep</th>\n",
       "      <th>weight_lbs</th>\n",
       "      <th>moods</th>\n",
       "      <th>activity_status</th>\n",
       "    </tr>\n",
       "  </thead>\n",
       "  <tbody>\n",
       "    <tr>\n",
       "      <th>0</th>\n",
       "      <td>10/6/17</td>\n",
       "      <td>5464</td>\n",
       "      <td>181</td>\n",
       "      <td>5</td>\n",
       "      <td>66</td>\n",
       "      <td>Neutral</td>\n",
       "      <td>Inactive</td>\n",
       "    </tr>\n",
       "    <tr>\n",
       "      <th>1</th>\n",
       "      <td>10/7/17</td>\n",
       "      <td>6041</td>\n",
       "      <td>197</td>\n",
       "      <td>8</td>\n",
       "      <td>66</td>\n",
       "      <td>Sad</td>\n",
       "      <td>Inactive</td>\n",
       "    </tr>\n",
       "    <tr>\n",
       "      <th>2</th>\n",
       "      <td>10/8/17</td>\n",
       "      <td>25</td>\n",
       "      <td>0</td>\n",
       "      <td>5</td>\n",
       "      <td>66</td>\n",
       "      <td>Sad</td>\n",
       "      <td>Inactive</td>\n",
       "    </tr>\n",
       "    <tr>\n",
       "      <th>3</th>\n",
       "      <td>10/9/17</td>\n",
       "      <td>5461</td>\n",
       "      <td>174</td>\n",
       "      <td>4</td>\n",
       "      <td>66</td>\n",
       "      <td>Sad</td>\n",
       "      <td>Inactive</td>\n",
       "    </tr>\n",
       "    <tr>\n",
       "      <th>4</th>\n",
       "      <td>10/10/17</td>\n",
       "      <td>6915</td>\n",
       "      <td>223</td>\n",
       "      <td>5</td>\n",
       "      <td>66</td>\n",
       "      <td>Neutral</td>\n",
       "      <td>Active</td>\n",
       "    </tr>\n",
       "  </tbody>\n",
       "</table>\n",
       "</div>"
      ],
      "text/plain": [
       "       date  step_count  calories_burned  hours_of_sleep  weight_lbs    moods  \\\n",
       "0   10/6/17        5464              181               5          66  Neutral   \n",
       "1   10/7/17        6041              197               8          66      Sad   \n",
       "2   10/8/17          25                0               5          66      Sad   \n",
       "3   10/9/17        5461              174               4          66      Sad   \n",
       "4  10/10/17        6915              223               5          66  Neutral   \n",
       "\n",
       "  activity_status  \n",
       "0        Inactive  \n",
       "1        Inactive  \n",
       "2        Inactive  \n",
       "3        Inactive  \n",
       "4          Active  "
      ]
     },
     "execution_count": 5,
     "metadata": {},
     "output_type": "execute_result"
    }
   ],
   "source": [
    "for i in range(len(fitness_df['active_status'])):\n",
    "    if fitness_df['active_status'][i] == 0:\n",
    "        fitness_df.at[i,'activity_status'] = 'Inactive'\n",
    "    elif fitness_df['active_status'][i] == 500:\n",
    "        fitness_df.at[i,'activity_status'] = 'Active'\n",
    "    else:\n",
    "        print('error')\n",
    "        \n",
    "fitness_df = fitness_df.drop('active_status', axis=1)\n",
    "        \n",
    "fitness_df.head()"
   ]
  },
  {
   "cell_type": "code",
   "execution_count": 6,
   "id": "18b84d12",
   "metadata": {},
   "outputs": [
    {
     "data": {
      "text/html": [
       "<div>\n",
       "<style scoped>\n",
       "    .dataframe tbody tr th:only-of-type {\n",
       "        vertical-align: middle;\n",
       "    }\n",
       "\n",
       "    .dataframe tbody tr th {\n",
       "        vertical-align: top;\n",
       "    }\n",
       "\n",
       "    .dataframe thead th {\n",
       "        text-align: right;\n",
       "    }\n",
       "</style>\n",
       "<table border=\"1\" class=\"dataframe\">\n",
       "  <thead>\n",
       "    <tr style=\"text-align: right;\">\n",
       "      <th></th>\n",
       "      <th>date</th>\n",
       "      <th>step_count</th>\n",
       "      <th>calories_burned</th>\n",
       "      <th>hours_of_sleep</th>\n",
       "      <th>weight_lbs</th>\n",
       "      <th>moods</th>\n",
       "      <th>activity_status</th>\n",
       "    </tr>\n",
       "  </thead>\n",
       "  <tbody>\n",
       "    <tr>\n",
       "      <th>0</th>\n",
       "      <td>10/6/17</td>\n",
       "      <td>5464</td>\n",
       "      <td>181</td>\n",
       "      <td>5</td>\n",
       "      <td>145.5</td>\n",
       "      <td>Neutral</td>\n",
       "      <td>Inactive</td>\n",
       "    </tr>\n",
       "    <tr>\n",
       "      <th>1</th>\n",
       "      <td>10/7/17</td>\n",
       "      <td>6041</td>\n",
       "      <td>197</td>\n",
       "      <td>8</td>\n",
       "      <td>145.5</td>\n",
       "      <td>Sad</td>\n",
       "      <td>Inactive</td>\n",
       "    </tr>\n",
       "    <tr>\n",
       "      <th>2</th>\n",
       "      <td>10/8/17</td>\n",
       "      <td>25</td>\n",
       "      <td>0</td>\n",
       "      <td>5</td>\n",
       "      <td>145.5</td>\n",
       "      <td>Sad</td>\n",
       "      <td>Inactive</td>\n",
       "    </tr>\n",
       "    <tr>\n",
       "      <th>3</th>\n",
       "      <td>10/9/17</td>\n",
       "      <td>5461</td>\n",
       "      <td>174</td>\n",
       "      <td>4</td>\n",
       "      <td>145.5</td>\n",
       "      <td>Sad</td>\n",
       "      <td>Inactive</td>\n",
       "    </tr>\n",
       "    <tr>\n",
       "      <th>4</th>\n",
       "      <td>10/10/17</td>\n",
       "      <td>6915</td>\n",
       "      <td>223</td>\n",
       "      <td>5</td>\n",
       "      <td>145.5</td>\n",
       "      <td>Neutral</td>\n",
       "      <td>Active</td>\n",
       "    </tr>\n",
       "  </tbody>\n",
       "</table>\n",
       "</div>"
      ],
      "text/plain": [
       "       date  step_count  calories_burned  hours_of_sleep  weight_lbs    moods  \\\n",
       "0   10/6/17        5464              181               5       145.5  Neutral   \n",
       "1   10/7/17        6041              197               8       145.5      Sad   \n",
       "2   10/8/17          25                0               5       145.5      Sad   \n",
       "3   10/9/17        5461              174               4       145.5      Sad   \n",
       "4  10/10/17        6915              223               5       145.5  Neutral   \n",
       "\n",
       "  activity_status  \n",
       "0        Inactive  \n",
       "1        Inactive  \n",
       "2        Inactive  \n",
       "3        Inactive  \n",
       "4          Active  "
      ]
     },
     "execution_count": 6,
     "metadata": {},
     "output_type": "execute_result"
    }
   ],
   "source": [
    "fitness_df['weight_lbs'] = round((fitness_df['weight_lbs']*2.20462),2)\n",
    "fitness_df.head()"
   ]
  },
  {
   "cell_type": "code",
   "execution_count": 7,
   "id": "ee1ad887",
   "metadata": {},
   "outputs": [
    {
     "data": {
      "text/html": [
       "<div>\n",
       "<style scoped>\n",
       "    .dataframe tbody tr th:only-of-type {\n",
       "        vertical-align: middle;\n",
       "    }\n",
       "\n",
       "    .dataframe tbody tr th {\n",
       "        vertical-align: top;\n",
       "    }\n",
       "\n",
       "    .dataframe thead th {\n",
       "        text-align: right;\n",
       "    }\n",
       "</style>\n",
       "<table border=\"1\" class=\"dataframe\">\n",
       "  <thead>\n",
       "    <tr style=\"text-align: right;\">\n",
       "      <th></th>\n",
       "      <th>Step Count Mean</th>\n",
       "      <th>Step Count Median</th>\n",
       "      <th>Step Count Variance</th>\n",
       "      <th>Step Count Standard Deviation</th>\n",
       "    </tr>\n",
       "    <tr>\n",
       "      <th>activity_status</th>\n",
       "      <th></th>\n",
       "      <th></th>\n",
       "      <th></th>\n",
       "      <th></th>\n",
       "    </tr>\n",
       "  </thead>\n",
       "  <tbody>\n",
       "    <tr>\n",
       "      <th>Active</th>\n",
       "      <td>3226.571429</td>\n",
       "      <td>3362.0</td>\n",
       "      <td>5.010156e+06</td>\n",
       "      <td>2238.337734</td>\n",
       "    </tr>\n",
       "    <tr>\n",
       "      <th>Inactive</th>\n",
       "      <td>2709.888889</td>\n",
       "      <td>2486.5</td>\n",
       "      <td>4.239923e+06</td>\n",
       "      <td>2059.107323</td>\n",
       "    </tr>\n",
       "  </tbody>\n",
       "</table>\n",
       "</div>"
      ],
      "text/plain": [
       "                 Step Count Mean  Step Count Median  Step Count Variance  \\\n",
       "activity_status                                                            \n",
       "Active               3226.571429             3362.0         5.010156e+06   \n",
       "Inactive             2709.888889             2486.5         4.239923e+06   \n",
       "\n",
       "                 Step Count Standard Deviation  \n",
       "activity_status                                 \n",
       "Active                             2238.337734  \n",
       "Inactive                           2059.107323  "
      ]
     },
     "execution_count": 7,
     "metadata": {},
     "output_type": "execute_result"
    }
   ],
   "source": [
    "step_count_mean = fitness_df.groupby(['activity_status']).mean()['step_count']\n",
    "step_count_median = fitness_df.groupby(['activity_status']).median()['step_count']\n",
    "step_count_variance = fitness_df.groupby(['activity_status']).var()['step_count']\n",
    "step_count_standard_deviation = fitness_df.groupby(['activity_status']).std()['step_count']\n",
    "\n",
    "step_count_stats = pd.DataFrame({\"Step Count Mean\" : step_count_mean,\n",
    "                                    \"Step Count Median\" : step_count_median,\n",
    "                                    \"Step Count Variance\" : step_count_variance,\n",
    "                                    \"Step Count Standard Deviation\" : step_count_standard_deviation})\n",
    "\n",
    "step_count_stats = step_count_stats[[\"Step Count Mean\", \n",
    "                                            \"Step Count Median\",\n",
    "                                            \"Step Count Variance\",\n",
    "                                            \"Step Count Standard Deviation\"]]\n",
    "\n",
    "step_count_stats.head()"
   ]
  },
  {
   "cell_type": "code",
   "execution_count": 8,
   "id": "c9cc0f5c",
   "metadata": {},
   "outputs": [
    {
     "name": "stdout",
     "output_type": "stream",
     "text": [
      "The more steps he takes the more active he is.\n"
     ]
    }
   ],
   "source": [
    "print(f'The more steps he takes the more active he is.')"
   ]
  },
  {
   "cell_type": "code",
   "execution_count": 9,
   "id": "1143e60c",
   "metadata": {},
   "outputs": [
    {
     "data": {
      "text/html": [
       "<div>\n",
       "<style scoped>\n",
       "    .dataframe tbody tr th:only-of-type {\n",
       "        vertical-align: middle;\n",
       "    }\n",
       "\n",
       "    .dataframe tbody tr th {\n",
       "        vertical-align: top;\n",
       "    }\n",
       "\n",
       "    .dataframe thead th {\n",
       "        text-align: right;\n",
       "    }\n",
       "</style>\n",
       "<table border=\"1\" class=\"dataframe\">\n",
       "  <thead>\n",
       "    <tr style=\"text-align: right;\">\n",
       "      <th></th>\n",
       "      <th>Step Count Mean</th>\n",
       "      <th>Step Count Median</th>\n",
       "      <th>Step Count Variance</th>\n",
       "      <th>Step Count Standard Deviation</th>\n",
       "    </tr>\n",
       "    <tr>\n",
       "      <th>moods</th>\n",
       "      <th></th>\n",
       "      <th></th>\n",
       "      <th></th>\n",
       "      <th></th>\n",
       "    </tr>\n",
       "  </thead>\n",
       "  <tbody>\n",
       "    <tr>\n",
       "      <th>Happy</th>\n",
       "      <td>3392.725000</td>\n",
       "      <td>4048.5</td>\n",
       "      <td>4.473253e+06</td>\n",
       "      <td>2115.006540</td>\n",
       "    </tr>\n",
       "    <tr>\n",
       "      <th>Neutral</th>\n",
       "      <td>3153.777778</td>\n",
       "      <td>3066.0</td>\n",
       "      <td>4.375466e+06</td>\n",
       "      <td>2091.761446</td>\n",
       "    </tr>\n",
       "    <tr>\n",
       "      <th>Sad</th>\n",
       "      <td>2103.068966</td>\n",
       "      <td>1258.0</td>\n",
       "      <td>4.231300e+06</td>\n",
       "      <td>2057.012361</td>\n",
       "    </tr>\n",
       "  </tbody>\n",
       "</table>\n",
       "</div>"
      ],
      "text/plain": [
       "         Step Count Mean  Step Count Median  Step Count Variance  \\\n",
       "moods                                                              \n",
       "Happy        3392.725000             4048.5         4.473253e+06   \n",
       "Neutral      3153.777778             3066.0         4.375466e+06   \n",
       "Sad          2103.068966             1258.0         4.231300e+06   \n",
       "\n",
       "         Step Count Standard Deviation  \n",
       "moods                                   \n",
       "Happy                      2115.006540  \n",
       "Neutral                    2091.761446  \n",
       "Sad                        2057.012361  "
      ]
     },
     "execution_count": 9,
     "metadata": {},
     "output_type": "execute_result"
    }
   ],
   "source": [
    "step_count_mean = fitness_df.groupby(['moods']).mean()['step_count']\n",
    "step_count_median = fitness_df.groupby(['moods']).median()['step_count']\n",
    "step_count_variance = fitness_df.groupby(['moods']).var()['step_count']\n",
    "step_count_standard_deviation = fitness_df.groupby(['moods']).std()['step_count']\n",
    "\n",
    "step_count_mood_stats = pd.DataFrame({\"Step Count Mean\" : step_count_mean,\n",
    "                                    \"Step Count Median\" : step_count_median,\n",
    "                                    \"Step Count Variance\" : step_count_variance,\n",
    "                                    \"Step Count Standard Deviation\" : step_count_standard_deviation})\n",
    "\n",
    "step_count_mood_stats = step_count_mood_stats[[\"Step Count Mean\", \n",
    "                                            \"Step Count Median\",\n",
    "                                            \"Step Count Variance\",\n",
    "                                            \"Step Count Standard Deviation\"]]\n",
    "\n",
    "step_count_mood_stats.head()"
   ]
  },
  {
   "cell_type": "code",
   "execution_count": 10,
   "id": "d7031885",
   "metadata": {},
   "outputs": [
    {
     "name": "stdout",
     "output_type": "stream",
     "text": [
      "The more active he is the higher his mood is.\n"
     ]
    }
   ],
   "source": [
    "print(f'The more active he is the higher his mood is.')"
   ]
  },
  {
   "cell_type": "code",
   "execution_count": 11,
   "id": "881969cb",
   "metadata": {},
   "outputs": [
    {
     "data": {
      "text/html": [
       "<div>\n",
       "<style scoped>\n",
       "    .dataframe tbody tr th:only-of-type {\n",
       "        vertical-align: middle;\n",
       "    }\n",
       "\n",
       "    .dataframe tbody tr th {\n",
       "        vertical-align: top;\n",
       "    }\n",
       "\n",
       "    .dataframe thead th {\n",
       "        text-align: right;\n",
       "    }\n",
       "</style>\n",
       "<table border=\"1\" class=\"dataframe\">\n",
       "  <thead>\n",
       "    <tr style=\"text-align: right;\">\n",
       "      <th></th>\n",
       "      <th>Hours of Sleep Mean</th>\n",
       "      <th>Hours of Sleep Median</th>\n",
       "      <th>Hours of Sleep Variance</th>\n",
       "      <th>Hours of Sleep Standard Deviation</th>\n",
       "    </tr>\n",
       "    <tr>\n",
       "      <th>moods</th>\n",
       "      <th></th>\n",
       "      <th></th>\n",
       "      <th></th>\n",
       "      <th></th>\n",
       "    </tr>\n",
       "  </thead>\n",
       "  <tbody>\n",
       "    <tr>\n",
       "      <th>Happy</th>\n",
       "      <td>5.725000</td>\n",
       "      <td>5.5</td>\n",
       "      <td>2.204487</td>\n",
       "      <td>1.484752</td>\n",
       "    </tr>\n",
       "    <tr>\n",
       "      <th>Neutral</th>\n",
       "      <td>4.666667</td>\n",
       "      <td>5.0</td>\n",
       "      <td>1.538462</td>\n",
       "      <td>1.240347</td>\n",
       "    </tr>\n",
       "    <tr>\n",
       "      <th>Sad</th>\n",
       "      <td>5.034483</td>\n",
       "      <td>5.0</td>\n",
       "      <td>2.605911</td>\n",
       "      <td>1.614284</td>\n",
       "    </tr>\n",
       "  </tbody>\n",
       "</table>\n",
       "</div>"
      ],
      "text/plain": [
       "         Hours of Sleep Mean  Hours of Sleep Median  Hours of Sleep Variance  \\\n",
       "moods                                                                          \n",
       "Happy               5.725000                    5.5                 2.204487   \n",
       "Neutral             4.666667                    5.0                 1.538462   \n",
       "Sad                 5.034483                    5.0                 2.605911   \n",
       "\n",
       "         Hours of Sleep Standard Deviation  \n",
       "moods                                       \n",
       "Happy                             1.484752  \n",
       "Neutral                           1.240347  \n",
       "Sad                               1.614284  "
      ]
     },
     "execution_count": 11,
     "metadata": {},
     "output_type": "execute_result"
    }
   ],
   "source": [
    "hours_of_sleep_mean = fitness_df.groupby(['moods']).mean()['hours_of_sleep']\n",
    "hours_of_sleep_median = fitness_df.groupby(['moods']).median()['hours_of_sleep']\n",
    "hours_of_sleep_variance = fitness_df.groupby(['moods']).var()['hours_of_sleep']\n",
    "hours_of_sleep_standard_deviation = fitness_df.groupby(['moods']).std()['hours_of_sleep']\n",
    "\n",
    "sleep_vs_mood_stats = pd.DataFrame({\"Hours of Sleep Mean\" : hours_of_sleep_mean,\n",
    "                                    \"Hours of Sleep Median\" : hours_of_sleep_median,\n",
    "                                    \"Hours of Sleep Variance\" : hours_of_sleep_variance,\n",
    "                                    \"Hours of Sleep Standard Deviation\" : hours_of_sleep_standard_deviation})\n",
    "\n",
    "sleep_vs_mood_stats = sleep_vs_mood_stats[[\"Hours of Sleep Mean\", \n",
    "                                            \"Hours of Sleep Median\",\n",
    "                                            \"Hours of Sleep Variance\",\n",
    "                                            \"Hours of Sleep Standard Deviation\"]]\n",
    "\n",
    "sleep_vs_mood_stats.head()"
   ]
  },
  {
   "cell_type": "code",
   "execution_count": 12,
   "id": "4d801058",
   "metadata": {},
   "outputs": [
    {
     "name": "stdout",
     "output_type": "stream",
     "text": [
      "The more sleep he gets the happier he is.\n"
     ]
    }
   ],
   "source": [
    "print(f'The more sleep he gets the happier he is.')"
   ]
  },
  {
   "cell_type": "code",
   "execution_count": 13,
   "id": "9479858c",
   "metadata": {},
   "outputs": [
    {
     "name": "stdout",
     "output_type": "stream",
     "text": [
      "The r-squared is: 0.04291890669621571\n"
     ]
    },
    {
     "data": {
      "image/png": "[encoded data removed]",
      "text/plain": [
       "<Figure size 640x480 with 1 Axes>"
      ]
     },
     "metadata": {},
     "output_type": "display_data"
    }
   ],
   "source": [
    "# Define a function to create Linear Regression plots\n",
    "x_values=np.array(fitness_df.index.tolist())\n",
    "y_values = fitness_df['step_count']\n",
    "(slope, intercept, rvalue, pvalue, stderr) = linregress(x_values, y_values)\n",
    "regress_values = x_values * slope + intercept\n",
    "line_eq = 'y = ' + str(round(slope,2)) + 'x + ' + str(round(intercept,2))\n",
    "plt.scatter(x_values,y_values)\n",
    "plt.plot(x_values,regress_values,\"r-\")\n",
    "plt.annotate(line_eq,(1, 1), color='red')\n",
    "plt.title('Steps per Day')\n",
    "plt.ylabel('Steps')\n",
    "plt.xlabel('Days')\n",
    "print(f\"The r-squared is: {rvalue**2}\")\n",
    "\n",
    "plt.savefig(\"Outputs/Linregress.png\")\n",
    "\n",
    "plt.show()"
   ]
  },
  {
   "cell_type": "code",
   "execution_count": 14,
   "id": "f833cdbe",
   "metadata": {},
   "outputs": [
    {
     "data": {
      "image/png": "[encoded data removed]",
      "text/plain": [
       "<Figure size 640x480 with 1 Axes>"
      ]
     },
     "metadata": {},
     "output_type": "display_data"
    }
   ],
   "source": [
    "#pie chart for mood\n",
    "mood_df = fitness_df.groupby('moods')\n",
    "mood_count = mood_df['moods'].count()\n",
    "mood_count.plot.pie(autopct='%1.1f%%')\n",
    "\n",
    "plt.savefig(\"Outputs/PieChart.png\")"
   ]
  },
  {
   "cell_type": "code",
   "execution_count": 27,
   "id": "7834aa2c",
   "metadata": {},
   "outputs": [
    {
     "data": {
      "image/png": "[encoded data removed]",
      "text/plain": [
       "<Figure size 640x480 with 1 Axes>"
      ]
     },
     "metadata": {},
     "output_type": "display_data"
    }
   ],
   "source": [
    "#bar chart for hours of sleep and mood\n",
    "\n",
    "mood_sleep_df = mood_df['hours_of_sleep'].count()\n",
    "plt.bar(mood_sleep_df.index, mood_sleep_df.values)\n",
    "plt.title('Mood Based on Hours of Sleep')\n",
    "plt.ylabel('Hours of Sleep') \n",
    "plt.xlabel('Mood') \n",
    "plt.xticks(rotation='vertical')\n",
    "\n",
    "plt.savefig(\"Outputs/BarChartSleep.png\")\n",
    "\n",
    "plt.show()"
   ]
  },
  {
   "cell_type": "code",
   "execution_count": 28,
   "id": "6a17eb60",
   "metadata": {},
   "outputs": [
    {
     "data": {
      "image/png": "[encoded data removed]",
      "text/plain": [
       "<Figure size 640x480 with 1 Axes>"
      ]
     },
     "metadata": {},
     "output_type": "display_data"
    }
   ],
   "source": [
    "mood_sleep_df = mood_df['hours_of_sleep'].mean()\n",
    "plt.bar(mood_sleep_df.index, mood_sleep_df.values)\n",
    "plt.title('Mood Based on Average Hours of Sleep')\n",
    "plt.ylabel('Average Hours of Sleep') \n",
    "plt.xlabel('Mood') \n",
    "plt.xticks(rotation='vertical')\n",
    "\n",
    "plt.savefig(\"Outputs/BarChartAverageSleep.png\")\n",
    "\n",
    "plt.show()"
   ]
  },
  {
   "cell_type": "code",
   "execution_count": 26,
   "id": "bacd785d",
   "metadata": {},
   "outputs": [
    {
     "name": "stdout",
     "output_type": "stream",
     "text": [
      "On average when he sleeps over five hours he is happy. When he sleeps under five hours he is either neutral or sad\n"
     ]
    }
   ],
   "source": [
    "print(f'On average when he sleeps over five hours he is happy. When he sleeps under five hours he is either neutral or sad')"
   ]
  },
  {
   "cell_type": "code",
   "execution_count": 23,
   "id": "502820b8",
   "metadata": {},
   "outputs": [
    {
     "name": "stdout",
     "output_type": "stream",
     "text": [
      "The r-squared is: 0.11819334421108373\n"
     ]
    },
    {
     "data": {
      "image/png": "[encoded data removed]",
      "text/plain": [
       "<Figure size 640x480 with 1 Axes>"
      ]
     },
     "metadata": {},
     "output_type": "display_data"
    }
   ],
   "source": [
    "x_values=np.array(fitness_df.index.tolist())\n",
    "y_values = fitness_df['hours_of_sleep']\n",
    "(slope, intercept, rvalue, pvalue, stderr) = linregress(x_values, y_values)\n",
    "regress_values = x_values * slope + intercept\n",
    "line_eq = 'y = ' + str(round(slope,2)) + 'x + ' + str(round(intercept,2))\n",
    "plt.scatter(x_values,y_values)\n",
    "plt.plot(x_values,regress_values,\"r-\")\n",
    "plt.annotate(line_eq,(2, 2), color='red')\n",
    "plt.title('Hours of Sleep per Day')\n",
    "plt.ylabel('Hours of Sleep')\n",
    "plt.xlabel('Days')\n",
    "print(f\"The r-squared is: {rvalue**2}\")\n",
    "\n",
    "plt.savefig(\"Outputs/SleepPerDay.png\")\n",
    "\n",
    "plt.show()"
   ]
  },
  {
   "cell_type": "code",
   "execution_count": 16,
   "id": "f95554da",
   "metadata": {},
   "outputs": [
    {
     "name": "stdout",
     "output_type": "stream",
     "text": [
      "-----------------------------------------------------\n",
      "The lower quartile of Active is : 1037.0\n",
      "The upper quartile of Active is : 4843.0\n",
      "The interquartile range of Active is : 3806.0\n",
      "The mean of Active is : 3226.5714285714284\n",
      "Values below -4672.0 could be Active outliers.\n",
      "Values above 10552.0 could be Active outliers.\n",
      "------------------------------------------------------\n",
      "-----------------------------------------------------\n",
      "The lower quartile of Inactive is : 663.75\n",
      "The upper quartile of Inactive is : 4411.5\n",
      "The interquartile range of Inactive is : 3747.75\n",
      "The mean of Inactive is : 2709.8888888888887\n",
      "Values below -4957.875 could be Inactive outliers.\n",
      "Values above 10033.125 could be Inactive outliers.\n",
      "------------------------------------------------------\n"
     ]
    }
   ],
   "source": [
    "#whiskers step/activity\n",
    "list_of_status = [\"Active\", \"Inactive\"]\n",
    "step_count_list = []\n",
    "for status in list_of_status:\n",
    "    location = fitness_df.loc[fitness_df[\"activity_status\"] == status, \"step_count\"]\n",
    "    step_count_list.append(location)\n",
    "    quartiles = location.quantile([.25,.5,.75])\n",
    "    lowerq = quartiles[0.25]\n",
    "    upperq = quartiles[0.75]\n",
    "    iqr = upperq - lowerq\n",
    "    lower_bound = lowerq - (1.5*iqr)\n",
    "    upper_bound = upperq + (1.5*iqr)\n",
    "    mean = location.mean()\n",
    "    print(f'-----------------------------------------------------')\n",
    "    print(f'The lower quartile of {status} is : {lowerq}')\n",
    "    print(f'The upper quartile of {status} is : {upperq}')\n",
    "    print(f'The interquartile range of {status} is : {iqr}')\n",
    "    print(f'The mean of {status} is : {mean}')\n",
    "    print(f'Values below {lower_bound} could be {status} outliers.')\n",
    "    print(f'Values above {upper_bound} could be {status} outliers.')\n",
    "    print(f'------------------------------------------------------')"
   ]
  },
  {
   "cell_type": "code",
   "execution_count": 17,
   "id": "125153b3",
   "metadata": {},
   "outputs": [
    {
     "data": {
      "image/png": "[encoded data removed]",
      "text/plain": [
       "<Figure size 640x480 with 1 Axes>"
      ]
     },
     "metadata": {},
     "output_type": "display_data"
    }
   ],
   "source": [
    "red_styling = dict(markerfacecolor='red', markersize=12)\n",
    "plt.boxplot(step_count_list, labels=list_of_status, flierprops=red_styling)\n",
    "plt.ylabel('Step Count')\n",
    "\n",
    "plt.savefig(\"Outputs/BoxAndWiskerMood.png\")\n",
    "\n",
    "plt.show()"
   ]
  },
  {
   "cell_type": "code",
   "execution_count": 18,
   "id": "74291aec",
   "metadata": {},
   "outputs": [
    {
     "name": "stdout",
     "output_type": "stream",
     "text": [
      "-----------------------------------------------------\n",
      "The lower quartile of Happy is : 1314.5\n",
      "The upper quartile of Happy is : 4804.25\n",
      "The interquartile range of Happy is : 3489.75\n",
      "The mean of Happy is : 3392.725\n",
      "Values below -3920.125 could be Happy outliers.\n",
      "Values above 10038.875 could be Happy outliers.\n",
      "------------------------------------------------------\n",
      "-----------------------------------------------------\n",
      "The lower quartile of Neutral is : 1339.0\n",
      "The upper quartile of Neutral is : 4245.5\n",
      "The interquartile range of Neutral is : 2906.5\n",
      "The mean of Neutral is : 3153.777777777778\n",
      "Values below -3020.75 could be Neutral outliers.\n",
      "Values above 8605.25 could be Neutral outliers.\n",
      "------------------------------------------------------\n",
      "-----------------------------------------------------\n",
      "The lower quartile of Sad is : 299.0\n",
      "The upper quartile of Sad is : 3721.0\n",
      "The interquartile range of Sad is : 3422.0\n",
      "The mean of Sad is : 2103.0689655172414\n",
      "Values below -4834.0 could be Sad outliers.\n",
      "Values above 8854.0 could be Sad outliers.\n",
      "------------------------------------------------------\n"
     ]
    }
   ],
   "source": [
    "#mood/step box and whisker\n",
    "list_of_moods = [\"Happy\",\"Neutral\", \"Sad\"]\n",
    "step_count_list = []\n",
    "for moods in list_of_moods:\n",
    "    location = fitness_df.loc[fitness_df[\"moods\"] == moods, \"step_count\"]\n",
    "    step_count_list.append(location)\n",
    "    quartiles = location.quantile([.25,.5,.75])\n",
    "    lowerq = quartiles[0.25]\n",
    "    upperq = quartiles[0.75]\n",
    "    iqr = upperq - lowerq\n",
    "    lower_bound = lowerq - (1.5*iqr)\n",
    "    upper_bound = upperq + (1.5*iqr)\n",
    "    mean = location.mean()\n",
    "    print(f'-----------------------------------------------------')\n",
    "    print(f'The lower quartile of {moods} is : {lowerq}')\n",
    "    print(f'The upper quartile of {moods} is : {upperq}')\n",
    "    print(f'The interquartile range of {moods} is : {iqr}')\n",
    "    print(f'The mean of {moods} is : {mean}')\n",
    "    print(f'Values below {lower_bound} could be {moods} outliers.')\n",
    "    print(f'Values above {upper_bound} could be {moods} outliers.')\n",
    "    print(f'------------------------------------------------------')"
   ]
  },
  {
   "cell_type": "code",
   "execution_count": 19,
   "id": "0352a8b9",
   "metadata": {},
   "outputs": [
    {
     "data": {
      "image/png": "[encoded data removed]",
      "text/plain": [
       "<Figure size 640x480 with 1 Axes>"
      ]
     },
     "metadata": {},
     "output_type": "display_data"
    }
   ],
   "source": [
    "red_styling = dict(markerfacecolor='red', markersize=12)\n",
    "plt.boxplot(step_count_list, labels=list_of_moods, flierprops=red_styling)\n",
    "plt.ylabel('Step Count')\n",
    "\n",
    "plt.savefig(\"Outputs/BoxAndWiskerStep.png\")\n",
    "\n",
    "plt.show()"
   ]
  },
  {
   "cell_type": "code",
   "execution_count": 29,
   "id": "e28eb833",
   "metadata": {},
   "outputs": [
    {
     "data": {
      "image/png": "[encoded data removed]",
      "text/plain": [
       "<Figure size 640x480 with 1 Axes>"
      ]
     },
     "metadata": {},
     "output_type": "display_data"
    }
   ],
   "source": [
    "#calories burned and mood bar chart\n",
    "mood_calorie_df = mood_df['calories_burned'].sum()\n",
    "plt.bar(mood_calorie_df.index, mood_calorie_df.values)\n",
    "plt.title('Calories Burned Based on Mood')\n",
    "plt.ylabel('Calories Burned') \n",
    "plt.xlabel('Mood') \n",
    "plt.xticks(rotation='vertical') \n",
    "\n",
    "plt.savefig(\"Outputs/BarChartCalories.png\")\n",
    "\n",
    "plt.show()"
   ]
  },
  {
   "cell_type": "code",
   "execution_count": null,
   "id": "61a5089f",
   "metadata": {},
   "outputs": [],
   "source": []
  }
 ],
 "metadata": {
  "kernelspec": {
   "display_name": "Python 3 (ipykernel)",
   "language": "python",
   "name": "python3"
  },
  "language_info": {
   "codemirror_mode": {
    "name": "ipython",
    "version": 3
   },
   "file_extension": ".py",
   "mimetype": "text/x-python",
   "name": "python",
   "nbconvert_exporter": "python",
   "pygments_lexer": "ipython3",
   "version": "3.9.13"
  }
 },
 "nbformat": 4,
 "nbformat_minor": 5
}
